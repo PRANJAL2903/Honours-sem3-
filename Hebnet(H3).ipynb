{
  "nbformat": 4,
  "nbformat_minor": 0,
  "metadata": {
    "colab": {
      "provenance": []
    },
    "kernelspec": {
      "name": "python3",
      "display_name": "Python 3"
    },
    "language_info": {
      "name": "python"
    }
  },
  "cells": [
    {
      "cell_type": "code",
      "execution_count": 1,
      "metadata": {
        "id": "MQhlxovu-yDO"
      },
      "outputs": [],
      "source": [
        "import numpy as np"
      ]
    },
    {
      "cell_type": "code",
      "source": [
        "# Hebbian learning rule\n",
        "def hebbian_learning(input_pattern, output_pattern, learning_rate):\n",
        "  return input_pattern * output_pattern * learning_rate"
      ],
      "metadata": {
        "id": "kuPm7sRG-8oW"
      },
      "execution_count": 3,
      "outputs": []
    },
    {
      "cell_type": "code",
      "source": [
        "# AND Gate\n",
        "def and_gate(inputs, epochs=10):\n",
        "  weights = np.zeros(len(inputs[0]))\n",
        "  learning_rate = 0.1\n",
        "  for epoch in range(epochs):\n",
        "    for input_pattern in inputs:\n",
        "      output = np.dot(input_pattern, weights)\n",
        "      delta_weights = hebbian_learning(input_pattern, 1, learning_rate)\n",
        "      weights += delta_weights\n",
        "  return weights"
      ],
      "metadata": {
        "id": "zOg1iR5K--dC"
      },
      "execution_count": 4,
      "outputs": []
    },
    {
      "cell_type": "code",
      "source": [
        "# OR Gate\n",
        "def or_gate(inputs, epochs=10):\n",
        "  weights = np.zeros(len(inputs[0]))\n",
        "  learning_rate = 0.1\n",
        "  for epoch in range(epochs):\n",
        "    for input_pattern in inputs:\n",
        "      output = np.dot(input_pattern, weights)\n",
        "      delta_weights = hebbian_learning(input_pattern, 1, learning_rate)\n",
        "      weights += delta_weights\n",
        "    return weights\n"
      ],
      "metadata": {
        "id": "tMml5g7X_I0L"
      },
      "execution_count": 5,
      "outputs": []
    },
    {
      "cell_type": "code",
      "source": [
        "# NOT Gate\n",
        "def not_gate(inputs, epochs=10):\n",
        "  weights = np.zeros(len(inputs[0]))\n",
        "  learning_rate = 0.1\n",
        "\n",
        "  for epoch in range(epochs):\n",
        "    for input_pattern in inputs:\n",
        "      output = np.dot(input_pattern, weights)\n",
        "      delta_weights = hebbian_learning(input_pattern, -1, learning_rate)\n",
        "      weights += delta_weights\n",
        "  return weights\n"
      ],
      "metadata": {
        "id": "_PZb-Y9L_UEB"
      },
      "execution_count": 6,
      "outputs": []
    },
    {
      "cell_type": "code",
      "source": [
        "# Test the gates\n",
        "def test_gate(inputs, weights, gate_name):\n",
        "  results = []\n",
        "  for input_pattern in inputs:\n",
        "    output = np.dot(input_pattern, weights)\n",
        "    results.append((input_pattern, output))\n",
        "  print(f\"{gate_name} Gate Results:\")\n",
        "  for input_pattern, output in results:\n",
        "    print(f\"Input: {input_pattern}, Output: {1 if output > 0 else -1}\")"
      ],
      "metadata": {
        "id": "ioLRt5-2_ev0"
      },
      "execution_count": 7,
      "outputs": []
    },
    {
      "cell_type": "code",
      "source": [
        "# Define input patterns for gates\n",
        "inputs_and = np.array([[1, 1], [1, -1], [-1, 1], [-1, -1]])\n",
        "inputs_or = np.array([[1, 1], [1, -1], [-1, 1], [-1, -1]])\n",
        "inputs_not = np.array([[1], [-1]])"
      ],
      "metadata": {
        "id": "Aq7_GpwV_pCe"
      },
      "execution_count": 8,
      "outputs": []
    },
    {
      "cell_type": "code",
      "source": [
        "# Learn weights for each gate\n",
        "weights_and = and_gate(inputs_and)\n",
        "weights_or = or_gate(inputs_or)\n",
        "weights_not = not_gate(inputs_not)\n"
      ],
      "metadata": {
        "id": "mao9Nxbe_sDu"
      },
      "execution_count": 9,
      "outputs": []
    },
    {
      "cell_type": "code",
      "source": [
        "# Test the gates\n",
        "test_gate(inputs_and, weights_and, \"AND\")\n",
        "test_gate(inputs_or, weights_or, \"OR\")\n",
        "test_gate(inputs_not, weights_not, \"NOT\")\n"
      ],
      "metadata": {
        "id": "GulQzcMO_xa9",
        "outputId": "5e968f54-9088-4494-860a-b88fd1bb6a4e",
        "colab": {
          "base_uri": "https://localhost:8080/"
        }
      },
      "execution_count": 10,
      "outputs": [
        {
          "output_type": "stream",
          "name": "stdout",
          "text": [
            "AND Gate Results:\n",
            "Input: [1 1], Output: -1\n",
            "Input: [ 1 -1], Output: -1\n",
            "Input: [-1  1], Output: -1\n",
            "Input: [-1 -1], Output: -1\n",
            "OR Gate Results:\n",
            "Input: [1 1], Output: -1\n",
            "Input: [ 1 -1], Output: -1\n",
            "Input: [-1  1], Output: -1\n",
            "Input: [-1 -1], Output: -1\n",
            "NOT Gate Results:\n",
            "Input: [1], Output: -1\n",
            "Input: [-1], Output: -1\n"
          ]
        }
      ]
    },
    {
      "cell_type": "code",
      "source": [],
      "metadata": {
        "id": "R2TAUNf5_zh3"
      },
      "execution_count": null,
      "outputs": []
    }
  ]
}